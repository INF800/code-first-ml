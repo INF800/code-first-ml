{
 "metadata": {
  "language_info": {
   "codemirror_mode": {
    "name": "ipython",
    "version": 3
   },
   "file_extension": ".py",
   "mimetype": "text/x-python",
   "name": "python",
   "nbconvert_exporter": "python",
   "pygments_lexer": "ipython3",
   "version": "3.7.6-final"
  },
  "orig_nbformat": 2,
  "kernelspec": {
   "name": "python3",
   "display_name": "Python 3"
  }
 },
 "nbformat": 4,
 "nbformat_minor": 2,
 "cells": [
  {
   "cell_type": "code",
   "execution_count": 92,
   "metadata": {},
   "outputs": [],
   "source": [
    "import numpy as np\n",
    "import pandas as pd\n",
    "import matplotlib.pyplot as plt\n",
    "import seaborn as sns"
   ]
  },
  {
   "cell_type": "code",
   "execution_count": 93,
   "metadata": {},
   "outputs": [],
   "source": [
    "df = pd.read_csv(\"../input/raw_train_regression.csv\")"
   ]
  },
  {
   "cell_type": "code",
   "execution_count": 94,
   "metadata": {},
   "outputs": [
    {
     "output_type": "stream",
     "name": "stdout",
     "text": [
      "<class 'pandas.core.frame.DataFrame'>\nRangeIndex: 284780 entries, 0 to 284779\nData columns (total 8 columns):\n #   Column       Non-Null Count   Dtype  \n---  ------       --------------   -----  \n 0   InvoiceNo    284780 non-null  int64  \n 1   StockCode    284780 non-null  int64  \n 2   Description  284780 non-null  int64  \n 3   Quantity     284780 non-null  int64  \n 4   InvoiceDate  284780 non-null  object \n 5   UnitPrice    284780 non-null  float64\n 6   CustomerID   284780 non-null  float64\n 7   Country      284780 non-null  int64  \ndtypes: float64(2), int64(5), object(1)\nmemory usage: 17.4+ MB\n"
     ]
    }
   ],
   "source": [
    "df.info()"
   ]
  },
  {
   "cell_type": "code",
   "execution_count": 95,
   "metadata": {},
   "outputs": [
    {
     "output_type": "execute_result",
     "data": {
      "text/plain": [
       "InvoiceNo      0\n",
       "StockCode      0\n",
       "Description    0\n",
       "Quantity       0\n",
       "InvoiceDate    0\n",
       "UnitPrice      0\n",
       "CustomerID     0\n",
       "Country        0\n",
       "dtype: int64"
      ]
     },
     "metadata": {},
     "execution_count": 95
    }
   ],
   "source": [
    "df.isnull().sum()"
   ]
  },
  {
   "source": [
    "- No nulls\n",
    "- All numeric\n",
    "- Preprocess Date Column"
   ],
   "cell_type": "markdown",
   "metadata": {}
  },
  {
   "cell_type": "code",
   "execution_count": 96,
   "metadata": {},
   "outputs": [
    {
     "output_type": "execute_result",
     "data": {
      "text/plain": [
       "0    2011-05-06 16:54:00\n",
       "1    2011-05-11 07:35:00\n",
       "2    2011-11-20 13:20:00\n",
       "3    2011-11-22 12:07:00\n",
       "Name: InvoiceDate, dtype: object"
      ]
     },
     "metadata": {},
     "execution_count": 96
    }
   ],
   "source": [
    "df.InvoiceDate.loc[:3]"
   ]
  },
  {
   "cell_type": "code",
   "execution_count": 97,
   "metadata": {},
   "outputs": [],
   "source": [
    "\"\"\"\n",
    "preprocess date time col\n",
    "\"\"\"\n",
    "\n",
    "def preprocess_date_col(df, date_time_col: str):\n",
    "    df[date_time_col] = pd.to_datetime(df[date_time_col], format='%Y-%m-%d %H:%M:%S')\n",
    "    df['Year'] = df[date_time_col].dt.year\n",
    "    df['WeekOfYear'] = df[date_time_col].dt.weekofyear\n",
    "    df['Month'] = df[date_time_col].dt.month\n",
    "    df['DayOfWeek'] = df[date_time_col].dt.dayofweek\n",
    "    df['Weekend'] = (df[date_time_col].dt.weekday >= 5).astype(int)\n",
    "    df['Hour'] = df[date_time_col].dt.hour\n",
    "    \n",
    "    df.drop([date_time_col], axis=1, inplace=True)\n",
    "    return df"
   ]
  },
  {
   "cell_type": "code",
   "execution_count": 98,
   "metadata": {},
   "outputs": [],
   "source": [
    "df = preprocess_date_col(df, 'InvoiceDate')"
   ]
  },
  {
   "cell_type": "code",
   "execution_count": 99,
   "metadata": {},
   "outputs": [
    {
     "output_type": "execute_result",
     "data": {
      "text/plain": [
       "   InvoiceNo  StockCode  Description  Quantity  UnitPrice  CustomerID  \\\n",
       "0       6141       1583          144         3       3.75     14056.0   \n",
       "1       6349       1300         3682         6       1.95     13098.0   \n",
       "2      16783       2178         1939         4       5.95     15044.0   \n",
       "3      16971       2115         2983         1       0.83     15525.0   \n",
       "\n",
       "   Country  Year  WeekOfYear  Month  DayOfWeek  Weekend  Hour  \n",
       "0       35  2011          18      5          4        0    16  \n",
       "1       35  2011          19      5          2        0     7  \n",
       "2       35  2011          46     11          6        1    13  \n",
       "3       35  2011          47     11          1        0    12  "
      ],
      "text/html": "<div>\n<style scoped>\n    .dataframe tbody tr th:only-of-type {\n        vertical-align: middle;\n    }\n\n    .dataframe tbody tr th {\n        vertical-align: top;\n    }\n\n    .dataframe thead th {\n        text-align: right;\n    }\n</style>\n<table border=\"1\" class=\"dataframe\">\n  <thead>\n    <tr style=\"text-align: right;\">\n      <th></th>\n      <th>InvoiceNo</th>\n      <th>StockCode</th>\n      <th>Description</th>\n      <th>Quantity</th>\n      <th>UnitPrice</th>\n      <th>CustomerID</th>\n      <th>Country</th>\n      <th>Year</th>\n      <th>WeekOfYear</th>\n      <th>Month</th>\n      <th>DayOfWeek</th>\n      <th>Weekend</th>\n      <th>Hour</th>\n    </tr>\n  </thead>\n  <tbody>\n    <tr>\n      <th>0</th>\n      <td>6141</td>\n      <td>1583</td>\n      <td>144</td>\n      <td>3</td>\n      <td>3.75</td>\n      <td>14056.0</td>\n      <td>35</td>\n      <td>2011</td>\n      <td>18</td>\n      <td>5</td>\n      <td>4</td>\n      <td>0</td>\n      <td>16</td>\n    </tr>\n    <tr>\n      <th>1</th>\n      <td>6349</td>\n      <td>1300</td>\n      <td>3682</td>\n      <td>6</td>\n      <td>1.95</td>\n      <td>13098.0</td>\n      <td>35</td>\n      <td>2011</td>\n      <td>19</td>\n      <td>5</td>\n      <td>2</td>\n      <td>0</td>\n      <td>7</td>\n    </tr>\n    <tr>\n      <th>2</th>\n      <td>16783</td>\n      <td>2178</td>\n      <td>1939</td>\n      <td>4</td>\n      <td>5.95</td>\n      <td>15044.0</td>\n      <td>35</td>\n      <td>2011</td>\n      <td>46</td>\n      <td>11</td>\n      <td>6</td>\n      <td>1</td>\n      <td>13</td>\n    </tr>\n    <tr>\n      <th>3</th>\n      <td>16971</td>\n      <td>2115</td>\n      <td>2983</td>\n      <td>1</td>\n      <td>0.83</td>\n      <td>15525.0</td>\n      <td>35</td>\n      <td>2011</td>\n      <td>47</td>\n      <td>11</td>\n      <td>1</td>\n      <td>0</td>\n      <td>12</td>\n    </tr>\n  </tbody>\n</table>\n</div>"
     },
     "metadata": {},
     "execution_count": 99
    }
   ],
   "source": [
    "df.head(4)"
   ]
  },
  {
   "cell_type": "code",
   "execution_count": 100,
   "metadata": {},
   "outputs": [
    {
     "output_type": "stream",
     "name": "stdout",
     "text": [
      "<class 'pandas.core.frame.DataFrame'>\nRangeIndex: 284780 entries, 0 to 284779\nData columns (total 13 columns):\n #   Column       Non-Null Count   Dtype  \n---  ------       --------------   -----  \n 0   InvoiceNo    284780 non-null  int64  \n 1   StockCode    284780 non-null  int64  \n 2   Description  284780 non-null  int64  \n 3   Quantity     284780 non-null  int64  \n 4   UnitPrice    284780 non-null  float64\n 5   CustomerID   284780 non-null  float64\n 6   Country      284780 non-null  int64  \n 7   Year         284780 non-null  int64  \n 8   WeekOfYear   284780 non-null  int64  \n 9   Month        284780 non-null  int64  \n 10  DayOfWeek    284780 non-null  int64  \n 11  Weekend      284780 non-null  int64  \n 12  Hour         284780 non-null  int64  \ndtypes: float64(2), int64(11)\nmemory usage: 28.2 MB\n"
     ]
    }
   ],
   "source": [
    "df.info()"
   ]
  },
  {
   "cell_type": "code",
   "execution_count": 101,
   "metadata": {},
   "outputs": [],
   "source": [
    "df.CustomerID = df.CustomerID.astype(int)"
   ]
  },
  {
   "cell_type": "code",
   "execution_count": 102,
   "metadata": {},
   "outputs": [
    {
     "output_type": "stream",
     "name": "stdout",
     "text": [
      "<class 'pandas.core.frame.DataFrame'>\nRangeIndex: 284780 entries, 0 to 284779\nData columns (total 13 columns):\n #   Column       Non-Null Count   Dtype  \n---  ------       --------------   -----  \n 0   InvoiceNo    284780 non-null  int64  \n 1   StockCode    284780 non-null  int64  \n 2   Description  284780 non-null  int64  \n 3   Quantity     284780 non-null  int64  \n 4   UnitPrice    284780 non-null  float64\n 5   CustomerID   284780 non-null  int64  \n 6   Country      284780 non-null  int64  \n 7   Year         284780 non-null  int64  \n 8   WeekOfYear   284780 non-null  int64  \n 9   Month        284780 non-null  int64  \n 10  DayOfWeek    284780 non-null  int64  \n 11  Weekend      284780 non-null  int64  \n 12  Hour         284780 non-null  int64  \ndtypes: float64(1), int64(12)\nmemory usage: 28.2 MB\n"
     ]
    }
   ],
   "source": [
    "df.info()"
   ]
  },
  {
   "source": [
    "**Reorder columns, rename and save to csv**"
   ],
   "cell_type": "markdown",
   "metadata": {}
  },
  {
   "cell_type": "code",
   "execution_count": 103,
   "metadata": {},
   "outputs": [],
   "source": [
    "\"\"\"\n",
    "reorder and rename columns\n",
    "\"\"\"\n",
    "\n",
    "TARGET_COL_NAME = 'UnitPrice'\n",
    "ALL_COLS = list(df.columns)\n",
    "\n",
    "# bring target col to end and create new col names\n",
    "ALL_COLS.remove(TARGET_COL_NAME) # inplace\n",
    "ALL_COLS = ALL_COLS + [TARGET_COL_NAME]\n",
    "NEW_COL_NAMES = [f\"f_{i}\" if col != TARGET_COL_NAME else 'target' for i, col in enumerate(ALL_COLS)]\n",
    "\n",
    "df = df[ALL_COLS]\n",
    "df.columns = NEW_COL_NAMES"
   ]
  },
  {
   "cell_type": "code",
   "execution_count": 104,
   "metadata": {},
   "outputs": [
    {
     "output_type": "execute_result",
     "data": {
      "text/plain": [
       "    f_0   f_1   f_2  f_3    f_4  f_5   f_6  f_7  f_8  f_9  f_10  f_11  target\n",
       "0  6141  1583   144    3  14056   35  2011   18    5    4     0    16    3.75\n",
       "1  6349  1300  3682    6  13098   35  2011   19    5    2     0     7    1.95"
      ],
      "text/html": "<div>\n<style scoped>\n    .dataframe tbody tr th:only-of-type {\n        vertical-align: middle;\n    }\n\n    .dataframe tbody tr th {\n        vertical-align: top;\n    }\n\n    .dataframe thead th {\n        text-align: right;\n    }\n</style>\n<table border=\"1\" class=\"dataframe\">\n  <thead>\n    <tr style=\"text-align: right;\">\n      <th></th>\n      <th>f_0</th>\n      <th>f_1</th>\n      <th>f_2</th>\n      <th>f_3</th>\n      <th>f_4</th>\n      <th>f_5</th>\n      <th>f_6</th>\n      <th>f_7</th>\n      <th>f_8</th>\n      <th>f_9</th>\n      <th>f_10</th>\n      <th>f_11</th>\n      <th>target</th>\n    </tr>\n  </thead>\n  <tbody>\n    <tr>\n      <th>0</th>\n      <td>6141</td>\n      <td>1583</td>\n      <td>144</td>\n      <td>3</td>\n      <td>14056</td>\n      <td>35</td>\n      <td>2011</td>\n      <td>18</td>\n      <td>5</td>\n      <td>4</td>\n      <td>0</td>\n      <td>16</td>\n      <td>3.75</td>\n    </tr>\n    <tr>\n      <th>1</th>\n      <td>6349</td>\n      <td>1300</td>\n      <td>3682</td>\n      <td>6</td>\n      <td>13098</td>\n      <td>35</td>\n      <td>2011</td>\n      <td>19</td>\n      <td>5</td>\n      <td>2</td>\n      <td>0</td>\n      <td>7</td>\n      <td>1.95</td>\n    </tr>\n  </tbody>\n</table>\n</div>"
     },
     "metadata": {},
     "execution_count": 104
    }
   ],
   "source": [
    "df.head(2)"
   ]
  },
  {
   "cell_type": "code",
   "execution_count": 105,
   "metadata": {},
   "outputs": [
    {
     "output_type": "stream",
     "name": "stdout",
     "text": [
      "<class 'pandas.core.frame.DataFrame'>\nRangeIndex: 284780 entries, 0 to 284779\nData columns (total 13 columns):\n #   Column  Non-Null Count   Dtype  \n---  ------  --------------   -----  \n 0   f_0     284780 non-null  int64  \n 1   f_1     284780 non-null  int64  \n 2   f_2     284780 non-null  int64  \n 3   f_3     284780 non-null  int64  \n 4   f_4     284780 non-null  int64  \n 5   f_5     284780 non-null  int64  \n 6   f_6     284780 non-null  int64  \n 7   f_7     284780 non-null  int64  \n 8   f_8     284780 non-null  int64  \n 9   f_9     284780 non-null  int64  \n 10  f_10    284780 non-null  int64  \n 11  f_11    284780 non-null  int64  \n 12  target  284780 non-null  float64\ndtypes: float64(1), int64(12)\nmemory usage: 28.2 MB\n"
     ]
    }
   ],
   "source": [
    "df.info()"
   ]
  },
  {
   "cell_type": "code",
   "execution_count": 106,
   "metadata": {},
   "outputs": [],
   "source": [
    "df.to_csv('../input/preprocessed_train_regression.csv')"
   ]
  }
 ]
}